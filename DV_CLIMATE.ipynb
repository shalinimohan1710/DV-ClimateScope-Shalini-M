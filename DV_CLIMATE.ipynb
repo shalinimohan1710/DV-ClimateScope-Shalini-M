{
  "nbformat": 4,
  "nbformat_minor": 0,
  "metadata": {
    "colab": {
      "provenance": []
    },
    "kernelspec": {
      "name": "python3",
      "display_name": "Python 3"
    },
    "language_info": {
      "name": "python"
    }
  },
  "cells": [
    {
      "cell_type": "markdown",
      "source": [
        "MILESTONE 1"
      ],
      "metadata": {
        "id": "z6hccdJbjaas"
      }
    },
    {
      "cell_type": "code",
      "execution_count": 1,
      "metadata": {
        "id": "LmYiZliFi6TN"
      },
      "outputs": [],
      "source": [
        "# STEP 1: Import libraries\n",
        "import pandas as pd\n",
        "import numpy as np"
      ]
    },
    {
      "cell_type": "code",
      "source": [
        "from google.colab import drive\n",
        "drive.mount('/content/drive')"
      ],
      "metadata": {
        "colab": {
          "base_uri": "https://localhost:8080/"
        },
        "id": "dfTbRkDmjf4S",
        "outputId": "1ea60552-3d15-4b73-f9f8-070ca9750b1a"
      },
      "execution_count": 2,
      "outputs": [
        {
          "output_type": "stream",
          "name": "stdout",
          "text": [
            "Mounted at /content/drive\n"
          ]
        }
      ]
    },
    {
      "cell_type": "code",
      "source": [
        "# Change path to your CSV location\n",
        "file_path = '/content/drive/MyDrive/GlobalWeatherRepository.csv'\n",
        "df = pd.read_csv(file_path, low_memory=False)"
      ],
      "metadata": {
        "id": "9aJQfzIbjozd"
      },
      "execution_count": 3,
      "outputs": []
    },
    {
      "cell_type": "code",
      "source": [
        "# STEP 3: Basic info\n",
        "print(\"Shape:\", df.shape)\n",
        "print(\"\\nData Types:\\n\", df.dtypes)\n",
        "print(\"\\nFirst 5 rows:\\n\", df.head())"
      ],
      "metadata": {
        "colab": {
          "base_uri": "https://localhost:8080/"
        },
        "id": "NHF-Oke6jpF0",
        "outputId": "80262733-6815-49e6-f116-bb7d91221732"
      },
      "execution_count": 4,
      "outputs": [
        {
          "output_type": "stream",
          "name": "stdout",
          "text": [
            "Shape: (88468, 41)\n",
            "\n",
            "Data Types:\n",
            " country                          object\n",
            "location_name                    object\n",
            "latitude                        float64\n",
            "longitude                       float64\n",
            "timezone                         object\n",
            "last_updated_epoch                int64\n",
            "last_updated                     object\n",
            "temperature_celsius             float64\n",
            "temperature_fahrenheit          float64\n",
            "condition_text                   object\n",
            "wind_mph                        float64\n",
            "wind_kph                        float64\n",
            "wind_degree                       int64\n",
            "wind_direction                   object\n",
            "pressure_mb                     float64\n",
            "pressure_in                     float64\n",
            "precip_mm                       float64\n",
            "precip_in                       float64\n",
            "humidity                          int64\n",
            "cloud                             int64\n",
            "feels_like_celsius              float64\n",
            "feels_like_fahrenheit           float64\n",
            "visibility_km                   float64\n",
            "visibility_miles                float64\n",
            "uv_index                        float64\n",
            "gust_mph                        float64\n",
            "gust_kph                        float64\n",
            "air_quality_Carbon_Monoxide     float64\n",
            "air_quality_Ozone               float64\n",
            "air_quality_Nitrogen_dioxide    float64\n",
            "air_quality_Sulphur_dioxide     float64\n",
            "air_quality_PM2.5               float64\n",
            "air_quality_PM10                float64\n",
            "air_quality_us-epa-index          int64\n",
            "air_quality_gb-defra-index        int64\n",
            "sunrise                          object\n",
            "sunset                           object\n",
            "moonrise                         object\n",
            "moonset                          object\n",
            "moon_phase                       object\n",
            "moon_illumination                 int64\n",
            "dtype: object\n",
            "\n",
            "First 5 rows:\n",
            "        country     location_name  latitude  longitude        timezone  \\\n",
            "0  Afghanistan             Kabul     34.52      69.18      Asia/Kabul   \n",
            "1      Albania            Tirana     41.33      19.82   Europe/Tirane   \n",
            "2      Algeria           Algiers     36.76       3.05  Africa/Algiers   \n",
            "3      Andorra  Andorra La Vella     42.50       1.52  Europe/Andorra   \n",
            "4       Angola            Luanda     -8.84      13.23   Africa/Luanda   \n",
            "\n",
            "   last_updated_epoch      last_updated  temperature_celsius  \\\n",
            "0          1715849100  2024-05-16 13:15                 26.6   \n",
            "1          1715849100  2024-05-16 10:45                 19.0   \n",
            "2          1715849100  2024-05-16 09:45                 23.0   \n",
            "3          1715849100  2024-05-16 10:45                  6.3   \n",
            "4          1715849100  2024-05-16 09:45                 26.0   \n",
            "\n",
            "   temperature_fahrenheit condition_text  ...  air_quality_PM2.5  \\\n",
            "0                    79.8  Partly Cloudy  ...                8.4   \n",
            "1                    66.2  Partly cloudy  ...                1.1   \n",
            "2                    73.4          Sunny  ...               10.4   \n",
            "3                    43.3  Light drizzle  ...                0.7   \n",
            "4                    78.8  Partly cloudy  ...              183.4   \n",
            "\n",
            "   air_quality_PM10  air_quality_us-epa-index air_quality_gb-defra-index  \\\n",
            "0              26.6                         1                          1   \n",
            "1               2.0                         1                          1   \n",
            "2              18.4                         1                          1   \n",
            "3               0.9                         1                          1   \n",
            "4             262.3                         5                         10   \n",
            "\n",
            "    sunrise    sunset  moonrise   moonset      moon_phase  moon_illumination  \n",
            "0  04:50 AM  06:50 PM  12:12 PM  01:11 AM  Waxing Gibbous                 55  \n",
            "1  05:21 AM  07:54 PM  12:58 PM  02:14 AM  Waxing Gibbous                 55  \n",
            "2  05:40 AM  07:50 PM  01:15 PM  02:14 AM  Waxing Gibbous                 55  \n",
            "3  06:31 AM  09:11 PM  02:12 PM  03:31 AM  Waxing Gibbous                 55  \n",
            "4  06:12 AM  05:55 PM  01:17 PM  12:38 AM  Waxing Gibbous                 55  \n",
            "\n",
            "[5 rows x 41 columns]\n"
          ]
        }
      ]
    },
    {
      "cell_type": "code",
      "source": [
        "# STEP 4: Check for missing values\n",
        "missing_summary = df.isnull().sum().reset_index()\n",
        "missing_summary.columns = ['Column', 'Missing_Values']\n",
        "missing_summary['Missing_%'] = (missing_summary['Missing_Values'] / len(df)) * 100\n",
        "print(\"\\nMissing Values Summary:\\n\", missing_summary.sort_values(\"Missing_%\", ascending=False))"
      ],
      "metadata": {
        "colab": {
          "base_uri": "https://localhost:8080/"
        },
        "id": "NQGTsDevjpUh",
        "outputId": "a73b8081-9d5b-4297-98b5-222ab5f13eb0"
      },
      "execution_count": 5,
      "outputs": [
        {
          "output_type": "stream",
          "name": "stdout",
          "text": [
            "\n",
            "Missing Values Summary:\n",
            "                           Column  Missing_Values  Missing_%\n",
            "0                        country               0        0.0\n",
            "1                  location_name               0        0.0\n",
            "2                       latitude               0        0.0\n",
            "3                      longitude               0        0.0\n",
            "4                       timezone               0        0.0\n",
            "5             last_updated_epoch               0        0.0\n",
            "6                   last_updated               0        0.0\n",
            "7            temperature_celsius               0        0.0\n",
            "8         temperature_fahrenheit               0        0.0\n",
            "9                 condition_text               0        0.0\n",
            "10                      wind_mph               0        0.0\n",
            "11                      wind_kph               0        0.0\n",
            "12                   wind_degree               0        0.0\n",
            "13                wind_direction               0        0.0\n",
            "14                   pressure_mb               0        0.0\n",
            "15                   pressure_in               0        0.0\n",
            "16                     precip_mm               0        0.0\n",
            "17                     precip_in               0        0.0\n",
            "18                      humidity               0        0.0\n",
            "19                         cloud               0        0.0\n",
            "20            feels_like_celsius               0        0.0\n",
            "21         feels_like_fahrenheit               0        0.0\n",
            "22                 visibility_km               0        0.0\n",
            "23              visibility_miles               0        0.0\n",
            "24                      uv_index               0        0.0\n",
            "25                      gust_mph               0        0.0\n",
            "26                      gust_kph               0        0.0\n",
            "27   air_quality_Carbon_Monoxide               0        0.0\n",
            "28             air_quality_Ozone               0        0.0\n",
            "29  air_quality_Nitrogen_dioxide               0        0.0\n",
            "30   air_quality_Sulphur_dioxide               0        0.0\n",
            "31             air_quality_PM2.5               0        0.0\n",
            "32              air_quality_PM10               0        0.0\n",
            "33      air_quality_us-epa-index               0        0.0\n",
            "34    air_quality_gb-defra-index               0        0.0\n",
            "35                       sunrise               0        0.0\n",
            "36                        sunset               0        0.0\n",
            "37                      moonrise               0        0.0\n",
            "38                       moonset               0        0.0\n",
            "39                    moon_phase               0        0.0\n",
            "40             moon_illumination               0        0.0\n"
          ]
        }
      ]
    },
    {
      "cell_type": "code",
      "source": [
        "# STEP 5: Inspect numerical columns (stats)\n",
        "print(\"\\nNumerical Summary:\\n\", df.describe())"
      ],
      "metadata": {
        "colab": {
          "base_uri": "https://localhost:8080/"
        },
        "id": "vO4sC1j1jpgX",
        "outputId": "d7dddff4-b853-4027-cc76-8b7e78fc2690"
      },
      "execution_count": 6,
      "outputs": [
        {
          "output_type": "stream",
          "name": "stdout",
          "text": [
            "\n",
            "Numerical Summary:\n",
            "            latitude     longitude  last_updated_epoch  temperature_celsius  \\\n",
            "count  88468.000000  88468.000000        8.846800e+04         88468.000000   \n",
            "mean      19.125807     22.172462        1.735550e+09            22.688292   \n",
            "std       24.470764     65.836842        1.137876e+07             9.087760   \n",
            "min      -41.300000   -175.200000        1.715849e+09           -24.900000   \n",
            "25%        3.750000     -6.836100        1.725798e+09            18.000000   \n",
            "50%       17.250000     23.316700        1.735555e+09            25.000000   \n",
            "75%       40.400000     50.580000        1.745399e+09            28.400000   \n",
            "max       64.150000    179.220000        1.755160e+09            49.200000   \n",
            "\n",
            "       temperature_fahrenheit      wind_mph      wind_kph   wind_degree  \\\n",
            "count            88468.000000  88468.000000  88468.000000  88468.000000   \n",
            "mean                72.840627      8.290632     13.345725    170.576988   \n",
            "std                 16.357748      8.131214     13.083663    103.100920   \n",
            "min                -12.800000      2.200000      3.600000      1.000000   \n",
            "25%                 64.400000      4.000000      6.500000     82.000000   \n",
            "50%                 77.000000      6.900000     11.200000    164.000000   \n",
            "75%                 83.100000     11.400000     18.400000    257.000000   \n",
            "max                120.600000   1841.200000   2963.200000    360.000000   \n",
            "\n",
            "        pressure_mb   pressure_in  ...      gust_kph  \\\n",
            "count  88468.000000  88468.000000  ...  88468.000000   \n",
            "mean    1013.968542     29.941857  ...     18.746828   \n",
            "std       11.777453      0.347736  ...     15.079207   \n",
            "min      947.000000     27.960000  ...      3.600000   \n",
            "25%     1010.000000     29.830000  ...     10.700000   \n",
            "50%     1013.000000     29.920000  ...     16.200000   \n",
            "75%     1018.000000     30.050000  ...     24.800000   \n",
            "max     3006.000000     88.770000  ...   2970.400000   \n",
            "\n",
            "       air_quality_Carbon_Monoxide  air_quality_Ozone  \\\n",
            "count                 88468.000000       88468.000000   \n",
            "mean                    517.207265          63.678540   \n",
            "std                     860.050147          33.029201   \n",
            "min                   -9999.000000           0.000000   \n",
            "25%                     234.950000          43.000000   \n",
            "50%                     327.100000          61.000000   \n",
            "75%                     505.050000          81.000000   \n",
            "max                   38879.398000         480.700000   \n",
            "\n",
            "       air_quality_Nitrogen_dioxide  air_quality_Sulphur_dioxide  \\\n",
            "count                  88468.000000                 88468.000000   \n",
            "mean                      15.495710                    11.321146   \n",
            "std                       25.970559                    42.237889   \n",
            "min                        0.000000                 -9999.000000   \n",
            "25%                        1.295000                     0.800000   \n",
            "50%                        4.440000                     2.405000   \n",
            "75%                       17.205000                     9.065000   \n",
            "max                      427.700000                   521.330000   \n",
            "\n",
            "       air_quality_PM2.5  air_quality_PM10  air_quality_us-epa-index  \\\n",
            "count       88468.000000      88468.000000              88468.000000   \n",
            "mean           26.214935         54.267000                  1.760591   \n",
            "std            41.494054        163.103509                  0.987959   \n",
            "min             0.168000      -1848.150000                  1.000000   \n",
            "25%             7.030000         10.500000                  1.000000   \n",
            "50%            14.985000         22.015000                  1.000000   \n",
            "75%            30.340000         46.990000                  2.000000   \n",
            "max          1614.100000       6037.290000                  6.000000   \n",
            "\n",
            "       air_quality_gb-defra-index  moon_illumination  \n",
            "count                88468.000000       88468.000000  \n",
            "mean                     2.770007          50.801035  \n",
            "std                      2.589821          35.105906  \n",
            "min                      1.000000           0.000000  \n",
            "25%                      1.000000          16.000000  \n",
            "50%                      2.000000          52.000000  \n",
            "75%                      3.000000          85.000000  \n",
            "max                     10.000000         100.000000  \n",
            "\n",
            "[8 rows x 30 columns]\n"
          ]
        }
      ]
    },
    {
      "cell_type": "code",
      "source": [
        "#print the column names\n",
        "print(df.columns.tolist())"
      ],
      "metadata": {
        "colab": {
          "base_uri": "https://localhost:8080/"
        },
        "id": "W9fOpz-2jp2l",
        "outputId": "054f7891-ede2-40e5-fa2b-6f2568678cd4"
      },
      "execution_count": 7,
      "outputs": [
        {
          "output_type": "stream",
          "name": "stdout",
          "text": [
            "['country', 'location_name', 'latitude', 'longitude', 'timezone', 'last_updated_epoch', 'last_updated', 'temperature_celsius', 'temperature_fahrenheit', 'condition_text', 'wind_mph', 'wind_kph', 'wind_degree', 'wind_direction', 'pressure_mb', 'pressure_in', 'precip_mm', 'precip_in', 'humidity', 'cloud', 'feels_like_celsius', 'feels_like_fahrenheit', 'visibility_km', 'visibility_miles', 'uv_index', 'gust_mph', 'gust_kph', 'air_quality_Carbon_Monoxide', 'air_quality_Ozone', 'air_quality_Nitrogen_dioxide', 'air_quality_Sulphur_dioxide', 'air_quality_PM2.5', 'air_quality_PM10', 'air_quality_us-epa-index', 'air_quality_gb-defra-index', 'sunrise', 'sunset', 'moonrise', 'moonset', 'moon_phase', 'moon_illumination']\n"
          ]
        }
      ]
    },
    {
      "cell_type": "code",
      "source": [
        "#drop the similar columns\n",
        "df = df.drop(columns=['temperature_fahrenheit']) # Already dropped\n",
        "df = df.drop(columns=['feels_like_fahrenheit']) # Dropping Celsius in a new cell"
      ],
      "metadata": {
        "id": "egRS_luukFk7"
      },
      "execution_count": 8,
      "outputs": []
    },
    {
      "cell_type": "code",
      "source": [
        "#print the column names to check whether the similar columns are dropped or not\n",
        "print(df.columns.tolist())"
      ],
      "metadata": {
        "colab": {
          "base_uri": "https://localhost:8080/"
        },
        "id": "vzTaDfUUkFx6",
        "outputId": "179f1347-cd4b-4415-f55a-ffa59443cbd6"
      },
      "execution_count": 9,
      "outputs": [
        {
          "output_type": "stream",
          "name": "stdout",
          "text": [
            "['country', 'location_name', 'latitude', 'longitude', 'timezone', 'last_updated_epoch', 'last_updated', 'temperature_celsius', 'condition_text', 'wind_mph', 'wind_kph', 'wind_degree', 'wind_direction', 'pressure_mb', 'pressure_in', 'precip_mm', 'precip_in', 'humidity', 'cloud', 'feels_like_celsius', 'visibility_km', 'visibility_miles', 'uv_index', 'gust_mph', 'gust_kph', 'air_quality_Carbon_Monoxide', 'air_quality_Ozone', 'air_quality_Nitrogen_dioxide', 'air_quality_Sulphur_dioxide', 'air_quality_PM2.5', 'air_quality_PM10', 'air_quality_us-epa-index', 'air_quality_gb-defra-index', 'sunrise', 'sunset', 'moonrise', 'moonset', 'moon_phase', 'moon_illumination']\n"
          ]
        }
      ]
    },
    {
      "cell_type": "code",
      "source": [
        "# STEP 7: Parse date column\n",
        "# Replace 'date' with the actual date column name in your dataset\n",
        "df['last_updated'] = pd.to_datetime(df['last_updated'], errors='coerce')"
      ],
      "metadata": {
        "id": "QVXl2GRQkF_C"
      },
      "execution_count": 10,
      "outputs": []
    },
    {
      "cell_type": "code",
      "source": [
        "# STEP 8: Aggregate daily → monthly\n",
        "# This reduces size and helps with seasonal trends\n",
        "monthly_df = (\n",
        "    df.groupby([pd.Grouper(key='last_updated', freq='ME'), 'country'])  # adjust 'country' column name if needed\n",
        "    .agg({\n",
        "        'temperature_celsius': 'mean',\n",
        "        'humidity': 'mean',\n",
        "        'precip_mm': 'sum',\n",
        "        'wind_kph': 'mean'\n",
        "    })\n",
        "    .reset_index()\n",
        ")\n",
        "\n",
        "print(\"\\nMonthly Aggregated Data:\\n\", monthly_df.head())"
      ],
      "metadata": {
        "colab": {
          "base_uri": "https://localhost:8080/"
        },
        "id": "6YSF9W9NkWKg",
        "outputId": "4b29cf57-b424-4bcc-bd69-0b556ec19554"
      },
      "execution_count": 11,
      "outputs": [
        {
          "output_type": "stream",
          "name": "stdout",
          "text": [
            "\n",
            "Monthly Aggregated Data:\n",
            "   last_updated      country  temperature_celsius   humidity  precip_mm  \\\n",
            "0   2024-05-31  Afghanistan            20.305882  38.058824       1.85   \n",
            "1   2024-05-31      Albania            25.647059  57.529412       5.02   \n",
            "2   2024-05-31      Algeria            26.117647  45.705882       0.01   \n",
            "3   2024-05-31      Andorra            12.423529  60.882353       5.98   \n",
            "4   2024-05-31       Angola            29.088235  69.764706       0.00   \n",
            "\n",
            "    wind_kph  \n",
            "0  11.517647  \n",
            "1  13.076471  \n",
            "2  22.617647  \n",
            "3   9.876471  \n",
            "4  19.594118  \n"
          ]
        }
      ]
    },
    {
      "cell_type": "code",
      "source": [
        "# STEP 9: Save cleaned & aggregated dataset\n",
        "df.to_csv(\"cleaned_weather_data.csv\", index=False)\n",
        "monthly_df.to_csv(\"monthly_weather_data.csv\", index=False)\n",
        "\n",
        "print(\"\\n✅ Data cleaning complete. Files saved: cleaned_weather_data.csv, monthly_weather_data.csv\")"
      ],
      "metadata": {
        "colab": {
          "base_uri": "https://localhost:8080/"
        },
        "id": "bhyMfK8WkX-o",
        "outputId": "e32f278e-aa0b-4045-9dd6-6b09a311c0ba"
      },
      "execution_count": 12,
      "outputs": [
        {
          "output_type": "stream",
          "name": "stdout",
          "text": [
            "\n",
            "✅ Data cleaning complete. Files saved: cleaned_weather_data.csv, monthly_weather_data.csv\n"
          ]
        }
      ]
    }
  ]
}